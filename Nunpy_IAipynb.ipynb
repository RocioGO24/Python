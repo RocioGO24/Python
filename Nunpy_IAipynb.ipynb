{
  "nbformat": 4,
  "nbformat_minor": 0,
  "metadata": {
    "colab": {
      "provenance": [],
      "toc_visible": true,
      "authorship_tag": "ABX9TyPf7OMy+P0bvSzcb5QWJX/k",
      "include_colab_link": true
    },
    "kernelspec": {
      "name": "python3",
      "display_name": "Python 3"
    },
    "language_info": {
      "name": "python"
    }
  },
  "cells": [
    {
      "cell_type": "markdown",
      "metadata": {
        "id": "view-in-github",
        "colab_type": "text"
      },
      "source": [
        "<a href=\"https://colab.research.google.com/github/RocioGO24/Python/blob/main/Nunpy_IAipynb.ipynb\" target=\"_parent\"><img src=\"https://colab.research.google.com/assets/colab-badge.svg\" alt=\"Open In Colab\"/></a>"
      ]
    },
    {
      "cell_type": "code",
      "execution_count": 39,
      "metadata": {
        "colab": {
          "base_uri": "https://localhost:8080/"
        },
        "id": "5quajiZQl1u5",
        "outputId": "601dc00a-e37b-4ecc-c60d-410146026815"
      },
      "outputs": [
        {
          "output_type": "stream",
          "name": "stdout",
          "text": [
            "[[ 5  1  6  8]\n",
            " [ 1  9 10  2]\n",
            " [10  9  6  8]]\n",
            "[[ 6  9  6  1]\n",
            " [ 7  7  8  6]\n",
            " [ 4 10 10  6]]\n",
            "(3, 4)\n",
            "(3, 4)\n",
            "adding numbers\n",
            "[[11 10 12  9]\n",
            " [ 8 16 18  8]\n",
            " [14 19 16 14]]\n",
            "substracting numbers\n",
            "[[-1 -8  0  7]\n",
            " [-6  2  2 -4]\n",
            " [ 6 -1 -4  2]]\n",
            "multiply numbers\n",
            "[[30  9 36  8]\n",
            " [ 7 63 80 12]\n",
            " [40 90 60 48]]\n",
            "[[11 10 12  9]\n",
            " [ 8 16 18  8]\n",
            " [14 19 16 14]]\n",
            "[[30  9 36  8]\n",
            " [ 7 63 80 12]\n",
            " [40 90 60 48]]\n",
            "[[0.83333333 0.11111111 1.         8.        ]\n",
            " [0.14285714 1.28571429 1.25       0.33333333]\n",
            " [2.5        0.9        0.6        1.33333333]]\n"
          ]
        }
      ],
      "source": [
        "import numpy as np\n",
        "a=np.random.randint(1,11,size=(3,4))\n",
        "b=np.random.randint(1,11,size=(3,4))\n",
        "print(a)\n",
        "print(b)\n",
        "print(a.shape)\n",
        "print(b.shape)\n",
        "print('adding numbers')\n",
        "print(a+b)\n",
        "print('substracting numbers')\n",
        "print(a-b)\n",
        "print('multiply numbers')\n",
        "print(a*b)\n",
        "\n",
        "print(np.add(a,b))\n",
        "print(np.multiply(a,b))\n",
        "print(np.divide(a,b))"
      ]
    },
    {
      "cell_type": "code",
      "source": [
        "a=np.random.randint(1,11,size=(2,3))\n",
        "b=np.random.randint(1,11,size=(3,4))\n",
        "print(a)\n",
        "print(b)\n",
        "print(np.dot(a,b))\n",
        "print(a.dot(b))"
      ],
      "metadata": {
        "colab": {
          "base_uri": "https://localhost:8080/"
        },
        "id": "_0M5Cd5ymGoD",
        "outputId": "d98f16bc-0304-4076-8f2f-682f120f4544"
      },
      "execution_count": 40,
      "outputs": [
        {
          "output_type": "stream",
          "name": "stdout",
          "text": [
            "[[8 2 5]\n",
            " [9 1 3]]\n",
            "[[10  2  9  4]\n",
            " [ 9  1  1 10]\n",
            " [ 5  2  9  7]]\n",
            "[[123  28 119  87]\n",
            " [114  25 109  67]]\n",
            "[[123  28 119  87]\n",
            " [114  25 109  67]]\n"
          ]
        }
      ]
    },
    {
      "cell_type": "code",
      "source": [
        "a=np.random.randint(1,11,size=(2,2))\n",
        "print(a.shape)\n",
        "print(type(a))\n",
        "print(a)\n",
        "print(a.T)"
      ],
      "metadata": {
        "colab": {
          "base_uri": "https://localhost:8080/"
        },
        "id": "bAGQkVSOmU1f",
        "outputId": "d51fb754-69a2-4902-f4b1-c845306184d9"
      },
      "execution_count": 42,
      "outputs": [
        {
          "output_type": "stream",
          "name": "stdout",
          "text": [
            "(2, 2)\n",
            "<class 'numpy.ndarray'>\n",
            "[[8 7]\n",
            " [7 7]]\n",
            "[[8 7]\n",
            " [7 7]]\n"
          ]
        }
      ]
    },
    {
      "cell_type": "code",
      "source": [
        "a=np.random.randint(1,11,size=(4,3))\n",
        "b=np.array([1,0,2])\n",
        "print(a.shape)\n",
        "print(b.shape)\n",
        "\n",
        "c=np.empty_like(a)\n",
        "print(a)\n",
        "print(b)\n",
        "print(c.shape)\n",
        "print('------------------')\n",
        "print(c)"
      ],
      "metadata": {
        "colab": {
          "base_uri": "https://localhost:8080/"
        },
        "id": "cTJODuzJmfq8",
        "outputId": "56657a14-0547-40a5-c6f4-57faac7e5334"
      },
      "execution_count": 43,
      "outputs": [
        {
          "output_type": "stream",
          "name": "stdout",
          "text": [
            "(4, 3)\n",
            "(3,)\n",
            "[[9 3 9]\n",
            " [6 8 5]\n",
            " [9 1 3]\n",
            " [7 6 7]]\n",
            "[1 0 2]\n",
            "(4, 3)\n",
            "------------------\n",
            "[[ 5  1  6]\n",
            " [ 8  1  9]\n",
            " [10  2 10]\n",
            " [ 9  6  8]]\n"
          ]
        }
      ]
    },
    {
      "cell_type": "code",
      "source": [
        "for i in range(4):\n",
        "  c[i,:]=a[i,:]+b\n",
        "\n",
        "print(a)\n",
        "print(b)\n",
        "print(c)\n",
        "print('------------------')\n",
        "c=a+b\n",
        "print(c)"
      ],
      "metadata": {
        "colab": {
          "base_uri": "https://localhost:8080/"
        },
        "id": "rgyC1HEumpMa",
        "outputId": "7c722375-bac5-4b2c-b96a-34296fe83878"
      },
      "execution_count": 44,
      "outputs": [
        {
          "output_type": "stream",
          "name": "stdout",
          "text": [
            "[[9 3 9]\n",
            " [6 8 5]\n",
            " [9 1 3]\n",
            " [7 6 7]]\n",
            "[1 0 2]\n",
            "[[10  3 11]\n",
            " [ 7  8  7]\n",
            " [10  1  5]\n",
            " [ 8  6  9]]\n",
            "------------------\n",
            "[[10  3 11]\n",
            " [ 7  8  7]\n",
            " [10  1  5]\n",
            " [ 8  6  9]]\n"
          ]
        }
      ]
    },
    {
      "cell_type": "code",
      "source": [
        "a=np.array([1,2,3])\n",
        "\n",
        "\n",
        "tmp=np.tile(a,(6,1))\n",
        "print(tmp)"
      ],
      "metadata": {
        "colab": {
          "base_uri": "https://localhost:8080/"
        },
        "id": "hLOvZQ1nm1Cp",
        "outputId": "c4b1e6de-4f8b-4243-e3d1-a4fdad2a4a86"
      },
      "execution_count": 45,
      "outputs": [
        {
          "output_type": "stream",
          "name": "stdout",
          "text": [
            "[[1 2 3]\n",
            " [1 2 3]\n",
            " [1 2 3]\n",
            " [1 2 3]\n",
            " [1 2 3]\n",
            " [1 2 3]]\n"
          ]
        }
      ]
    },
    {
      "cell_type": "code",
      "source": [
        "matrix1 = np.random.randint(0, 10, size=(6, 6))\n",
        "print(matrix1)\n",
        "\n",
        "aux=np.mean(matrix1)\n",
        "print(aux)\n",
        "print('------------------')\n",
        "matrix2 = np.random.randint(0, 10, size=(6, 6))\n",
        "print(matrix2)\n",
        "print('------------------')\n",
        "print(\"\\nEl promedio por filas de la matriz es:\")\n",
        "print(promedio_por_filas)"
      ],
      "metadata": {
        "colab": {
          "base_uri": "https://localhost:8080/"
        },
        "id": "GxQvyviYm3PX",
        "outputId": "0f1a6f47-9674-49a7-d6f1-f93aa1ec61c8"
      },
      "execution_count": 46,
      "outputs": [
        {
          "output_type": "stream",
          "name": "stdout",
          "text": [
            "[[3 7 8 7 2 3]\n",
            " [8 1 8 8 6 4]\n",
            " [1 6 3 8 4 9]\n",
            " [3 6 4 6 4 2]\n",
            " [4 9 4 0 2 5]\n",
            " [2 9 7 3 3 8]]\n",
            "4.916666666666667\n",
            "------------------\n",
            "[[1 2 8 2 9 0]\n",
            " [6 7 2 6 3 6]\n",
            " [0 9 2 8 1 8]\n",
            " [4 3 4 1 7 4]\n",
            " [1 5 2 1 7 7]\n",
            " [6 7 8 3 6 3]]\n",
            "------------------\n",
            "\n",
            "El promedio por filas de la matriz es:\n",
            "[6.         4.16666667 3.83333333 3.33333333 3.83333333 4.16666667]\n"
          ]
        }
      ]
    },
    {
      "cell_type": "code",
      "source": [
        "matrix_X = np.array([[1, 2], [3, 4]])\n",
        "matrix_Y = np.array([[5, 6], [7, 8]])\n",
        "matrix_result = np.dot(matrix_X, matrix_Y)\n",
        "\n",
        "array_A = np.array([1, 2, 3])\n",
        "squared_array_A = np.square(array_A)"
      ],
      "metadata": {
        "id": "srhFeQAtrZbC"
      },
      "execution_count": 47,
      "outputs": []
    },
    {
      "cell_type": "code",
      "source": [
        "print(squared_array_A)"
      ],
      "metadata": {
        "colab": {
          "base_uri": "https://localhost:8080/"
        },
        "id": "Ke4QaB4zrpLa",
        "outputId": "ee927f1b-2713-4791-e792-94a1752ba6c8"
      },
      "execution_count": 48,
      "outputs": [
        {
          "output_type": "stream",
          "name": "stdout",
          "text": [
            "[1 4 9]\n"
          ]
        }
      ]
    },
    {
      "cell_type": "code",
      "source": [
        "array_2d = np.array([[1, 2, 3], [4, 5, 6]])\n",
        "array_1d = np.array([10, 20, 30])\n",
        "result_broadcasting = array_2d + array_1d\n",
        "\n",
        "print(\"Resultado del Broadcasting:\")\n",
        "print(result_broadcasting)\n",
        "\n",
        "array_X = np.array([[1, 2], [3, 4]])\n",
        "array_Y = np.array([[5, 6]])\n",
        "concatenated_array = np.concatenate((array_X, array_Y.T), axis=1)\n",
        "\n",
        "print(\"\\nResultado de la Concatenación:\")\n",
        "print(concatenated_array)"
      ],
      "metadata": {
        "colab": {
          "base_uri": "https://localhost:8080/"
        },
        "id": "-nwMOcpCsPSx",
        "outputId": "54fc144f-8571-4f0b-c081-af21035d161e"
      },
      "execution_count": 49,
      "outputs": [
        {
          "output_type": "stream",
          "name": "stdout",
          "text": [
            "Resultado del Broadcasting:\n",
            "[[11 22 33]\n",
            " [14 25 36]]\n",
            "\n",
            "Resultado de la Concatenación:\n",
            "[[1 2 5]\n",
            " [3 4 6]]\n"
          ]
        }
      ]
    }
  ]
}