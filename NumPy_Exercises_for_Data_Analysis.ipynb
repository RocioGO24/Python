{
  "nbformat": 4,
  "nbformat_minor": 0,
  "metadata": {
    "colab": {
      "provenance": [],
      "toc_visible": true,
      "include_colab_link": true
    },
    "kernelspec": {
      "name": "python3",
      "display_name": "Python 3"
    },
    "language_info": {
      "name": "python"
    }
  },
  "cells": [
    {
      "cell_type": "markdown",
      "metadata": {
        "id": "view-in-github",
        "colab_type": "text"
      },
      "source": [
        "<a href=\"https://colab.research.google.com/github/RocioGO24/Python/blob/main/NumPy_Exercises_for_Data_Analysis.ipynb\" target=\"_parent\"><img src=\"https://colab.research.google.com/assets/colab-badge.svg\" alt=\"Open In Colab\"/></a>"
      ]
    },
    {
      "cell_type": "markdown",
      "source": [
        "NumPy Exercises for Data Analysis"
      ],
      "metadata": {
        "id": "hSsi2_-klame"
      }
    },
    {
      "cell_type": "code",
      "source": [
        "# Import numpy as np and see the version\n",
        "\n",
        "# your code here\n",
        "pass\n",
        "import numpy as np\n"
      ],
      "metadata": {
        "id": "kuK4TNepldem"
      },
      "execution_count": 4,
      "outputs": []
    },
    {
      "cell_type": "code",
      "source": [
        "# Create a 1D array of numbers from 0 to 9\n",
        "# your code here\n",
        "pass\n",
        "lista=list(range(9))\n",
        "print(lista)\n"
      ],
      "metadata": {
        "id": "hbYX-oMBlvS-",
        "outputId": "f912c318-7b4f-45ee-93f9-060f4ab59c73",
        "colab": {
          "base_uri": "https://localhost:8080/"
        }
      },
      "execution_count": 5,
      "outputs": [
        {
          "output_type": "stream",
          "name": "stdout",
          "text": [
            "[0, 1, 2, 3, 4, 5, 6, 7, 8]\n"
          ]
        }
      ]
    },
    {
      "cell_type": "code",
      "source": [
        "# Create random vector of size 10 and replace the maximum value by 0\n",
        "pass\n",
        "vector = np.random.rand(10)\n",
        "vector[vector.argmax()] = 0\n",
        "print(vector)\n"
      ],
      "metadata": {
        "id": "HfsNmdvrwqsO",
        "outputId": "2f9fc163-3bf1-48af-95cd-7523c2b8f12c",
        "colab": {
          "base_uri": "https://localhost:8080/"
        }
      },
      "execution_count": 6,
      "outputs": [
        {
          "output_type": "stream",
          "name": "stdout",
          "text": [
            "[0.602035   0.17067977 0.77402853 0.12799875 0.         0.90286668\n",
            " 0.95058734 0.21955942 0.96347834 0.10258268]\n"
          ]
        }
      ]
    },
    {
      "cell_type": "code",
      "source": [
        "# Print the number 8 from the array below:\n",
        "# arr = np.array([[1,2,3,4,5], [6,7,8,9,10]])\n",
        "pass\n",
        "arr = np.array([[1,2,3,4,5], [6,7,8,9,10]])\n",
        "print(arr[1, 2])"
      ],
      "metadata": {
        "id": "a9T-W3uUoqcE",
        "outputId": "43b4c8cc-78bb-48a8-91bf-d1e16e48dbde",
        "colab": {
          "base_uri": "https://localhost:8080/"
        }
      },
      "execution_count": 8,
      "outputs": [
        {
          "output_type": "stream",
          "name": "stdout",
          "text": [
            "8\n"
          ]
        }
      ]
    },
    {
      "cell_type": "code",
      "source": [
        "# Print the numbers [3, 4, 5] from the array below:\n",
        "# arr = np.array([1,2,3,4,5,6,7])\n",
        "pass\n",
        "arr = np.array([1,2,3,4,5,6,7])\n",
        "print(arr[2:5])"
      ],
      "metadata": {
        "id": "PqvPijs8o2ub",
        "outputId": "e7836608-4625-4749-d32f-ec3ca67304ec",
        "colab": {
          "base_uri": "https://localhost:8080/"
        }
      },
      "execution_count": 9,
      "outputs": [
        {
          "output_type": "stream",
          "name": "stdout",
          "text": [
            "[3 4 5]\n"
          ]
        }
      ]
    },
    {
      "cell_type": "code",
      "source": [
        "# Print the last 4 numbers from the array below:\n",
        "# arr = np.array([1,2,3,4,5,6,7])\n",
        "pass\n",
        "arr = np.array([1,2,3,4,5,6,7])\n",
        "print(arr[3:])"
      ],
      "metadata": {
        "id": "H5iUCizHpk0L",
        "outputId": "8cfb03a2-96c6-4136-d4b2-90eeddc1f15a",
        "colab": {
          "base_uri": "https://localhost:8080/"
        }
      },
      "execution_count": 10,
      "outputs": [
        {
          "output_type": "stream",
          "name": "stdout",
          "text": [
            "[4 5 6 7]\n"
          ]
        }
      ]
    },
    {
      "cell_type": "code",
      "source": [
        "# Create a 3×3 numpy array of all True’s\n",
        "# your code here\n",
        "pass\n",
        "tmp=10*np.random.random((4,4))\n",
        "mascara=tmp>0\n",
        "print(tmp)\n",
        "print(\"-------------------\")\n",
        "print(mascara)"
      ],
      "metadata": {
        "id": "C9nBztXhl9NA",
        "outputId": "279b5409-c46c-4138-ea94-f484db9a0354",
        "colab": {
          "base_uri": "https://localhost:8080/"
        }
      },
      "execution_count": 11,
      "outputs": [
        {
          "output_type": "stream",
          "name": "stdout",
          "text": [
            "[[0.31444612 6.06847584 0.82433676 0.85957704]\n",
            " [8.5182498  8.25218129 0.31413409 5.48123607]\n",
            " [6.75116467 9.08946152 5.20575234 9.34414388]\n",
            " [1.68552778 8.23157682 5.33431316 1.11561092]]\n",
            "-------------------\n",
            "[[ True  True  True  True]\n",
            " [ True  True  True  True]\n",
            " [ True  True  True  True]\n",
            " [ True  True  True  True]]\n"
          ]
        }
      ]
    },
    {
      "cell_type": "code",
      "source": [
        "# Extract all odd numbers from arr\n",
        "# your code here\n",
        "pass\n",
        "tmp = np.random.randint(1, 11, size=(4, 4))\n",
        "print(tmp)\n",
        "print('----------------------------------')\n",
        "mask = np.mod(tmp, 2) == 0\n",
        "print(tmp[mask])"
      ],
      "metadata": {
        "id": "W18lqbBwmIhw",
        "outputId": "81009909-97c5-4ecb-89c0-50891b56a5b9",
        "colab": {
          "base_uri": "https://localhost:8080/"
        }
      },
      "execution_count": 12,
      "outputs": [
        {
          "output_type": "stream",
          "name": "stdout",
          "text": [
            "[[7 3 1 7]\n",
            " [3 3 1 8]\n",
            " [8 5 5 3]\n",
            " [1 9 4 8]]\n",
            "----------------------------------\n",
            "[8 8 4 8]\n"
          ]
        }
      ]
    },
    {
      "cell_type": "code",
      "source": [
        "# Create a vector with values ranging from 10 to 49 (★☆☆)\n",
        "pass\n",
        "tmp = np.arange(10,50)\n",
        "print(tmp)\n",
        "pass\n"
      ],
      "metadata": {
        "id": "hA9iXCAwr55v",
        "outputId": "ec943e82-3fcc-4707-857c-d792d741919d",
        "colab": {
          "base_uri": "https://localhost:8080/"
        }
      },
      "execution_count": 13,
      "outputs": [
        {
          "output_type": "stream",
          "name": "stdout",
          "text": [
            "[10 11 12 13 14 15 16 17 18 19 20 21 22 23 24 25 26 27 28 29 30 31 32 33\n",
            " 34 35 36 37 38 39 40 41 42 43 44 45 46 47 48 49]\n"
          ]
        }
      ]
    },
    {
      "cell_type": "code",
      "source": [
        "# Reverse a vector (first element becomes last)\n",
        "pass\n",
        "vectorInvertido = tmp[::-1]\n",
        "print(vectorInvertido)"
      ],
      "metadata": {
        "id": "R-_IjeHyr83q",
        "outputId": "1728c06c-2bf2-460b-de46-fccabb753cd6",
        "colab": {
          "base_uri": "https://localhost:8080/"
        }
      },
      "execution_count": 14,
      "outputs": [
        {
          "output_type": "stream",
          "name": "stdout",
          "text": [
            "[49 48 47 46 45 44 43 42 41 40 39 38 37 36 35 34 33 32 31 30 29 28 27 26\n",
            " 25 24 23 22 21 20 19 18 17 16 15 14 13 12 11 10]\n"
          ]
        }
      ]
    },
    {
      "cell_type": "code",
      "source": [
        "#  Create a 10x10 array with random integer values and find the minimum and maximum values\n",
        "pass\n",
        "tmp = np.random.randint(1, 101, size=(10, 10))\n",
        "minimo = np.min(tmp)\n",
        "maximo = np.max(tmp)\n",
        "print(\"Matriz\")\n",
        "print(tmp)\n",
        "print(\"Minimo\")\n",
        "print(minimo)\n",
        "print(\"Maximo\")\n",
        "print(maximo)\n",
        "pass"
      ],
      "metadata": {
        "id": "rEWwl_weuq3B",
        "outputId": "f4ade53d-b2e0-44e5-b795-cd934265b932",
        "colab": {
          "base_uri": "https://localhost:8080/"
        }
      },
      "execution_count": 15,
      "outputs": [
        {
          "output_type": "stream",
          "name": "stdout",
          "text": [
            "Matriz\n",
            "[[ 81  30  96   1  13   7  32  75  83  33]\n",
            " [ 74   8  91  39   1   7 100   1  53  91]\n",
            " [ 15   1  29  87  65  10  33  40  52  69]\n",
            " [  7  49  42   5  40  77  96  96  91  55]\n",
            " [ 48  71  61  41  41  18  55  80  20  43]\n",
            " [ 31   7  95  22  74  56  93  57  59  13]\n",
            " [ 35  64 100  84  13  84  97  91  74  42]\n",
            " [ 29  78   1  91  81  72  11  68  84  32]\n",
            " [ 67  83  55  54  74  39  52  55  86  58]\n",
            " [ 51  30  94  83  28  45  20  41  30  58]]\n",
            "Minimo\n",
            "1\n",
            "Maximo\n",
            "100\n"
          ]
        }
      ]
    },
    {
      "cell_type": "code",
      "source": [
        "# Create a 3x3x3 array with random values\n",
        "pass\n",
        "tmp2 = np.random.random((3,3,3))\n",
        "print(tmp2)"
      ],
      "metadata": {
        "id": "KFy17KsvvSql",
        "outputId": "c482b627-915b-4c0c-d80c-094bbcd3252d",
        "colab": {
          "base_uri": "https://localhost:8080/"
        }
      },
      "execution_count": 16,
      "outputs": [
        {
          "output_type": "stream",
          "name": "stdout",
          "text": [
            "[[[0.76309708 0.4740306  0.14147404]\n",
            "  [0.30416249 0.05654472 0.15682126]\n",
            "  [0.15355687 0.55432608 0.23831617]]\n",
            "\n",
            " [[0.84848486 0.29988876 0.48630797]\n",
            "  [0.71806967 0.96175586 0.62602367]\n",
            "  [0.2612052  0.38665893 0.30314855]]\n",
            "\n",
            " [[0.19971472 0.32710372 0.86575038]\n",
            "  [0.14321016 0.93547644 0.04511107]\n",
            "  [0.08368205 0.47563865 0.05814089]]]\n"
          ]
        }
      ]
    },
    {
      "cell_type": "code",
      "source": [
        "# Replace all odd numbers in arr with -1\n",
        "# your code here\n",
        "pass\n",
        "tmp = np.random.randint(1, 11, size=(3, 3, 3))\n",
        "print(tmp)\n",
        "print(\"-----------------\")\n",
        "tmp[tmp % 2 == 1] = -1\n",
        "print(tmp)"
      ],
      "metadata": {
        "id": "X7ol3alqmbNa",
        "outputId": "f332733d-00f6-492a-dfd0-e35b217760bd",
        "colab": {
          "base_uri": "https://localhost:8080/"
        }
      },
      "execution_count": 17,
      "outputs": [
        {
          "output_type": "stream",
          "name": "stdout",
          "text": [
            "[[[8 2 5]\n",
            "  [2 8 6]\n",
            "  [5 8 6]]\n",
            "\n",
            " [[5 1 7]\n",
            "  [4 3 1]\n",
            "  [3 6 4]]\n",
            "\n",
            " [[1 9 3]\n",
            "  [3 4 1]\n",
            "  [8 9 4]]]\n",
            "-----------------\n",
            "[[[ 8  2 -1]\n",
            "  [ 2  8  6]\n",
            "  [-1  8  6]]\n",
            "\n",
            " [[-1 -1 -1]\n",
            "  [ 4 -1 -1]\n",
            "  [-1  6  4]]\n",
            "\n",
            " [[-1 -1 -1]\n",
            "  [-1  4 -1]\n",
            "  [ 8 -1  4]]]\n"
          ]
        }
      ]
    },
    {
      "cell_type": "code",
      "source": [
        "# Create an array of type float\n",
        "pass\n",
        "tmpF = np.random.rand(5)\n",
        "print(tmpF)"
      ],
      "metadata": {
        "id": "GwdXYn9HqYTL",
        "outputId": "64864a8c-3e93-4364-e032-17388bb86844",
        "colab": {
          "base_uri": "https://localhost:8080/"
        }
      },
      "execution_count": 18,
      "outputs": [
        {
          "output_type": "stream",
          "name": "stdout",
          "text": [
            "[0.9527392  0.21165482 0.55529716 0.47602165 0.3263796 ]\n"
          ]
        }
      ]
    },
    {
      "cell_type": "code",
      "source": [
        "# Convert a 1D array to a 2D array with 2 rows\n",
        "# your code here\n",
        "pass\n",
        "lista = list(range(12))\n",
        "lista = np.array(lista)\n",
        "two_d_array = lista.reshape(2, 6)\n",
        "print(two_d_array)"
      ],
      "metadata": {
        "id": "LvcL1lUYoPjN",
        "outputId": "d1fedca5-94dc-4bb9-e097-c7d0ec7c8818",
        "colab": {
          "base_uri": "https://localhost:8080/"
        }
      },
      "execution_count": 19,
      "outputs": [
        {
          "output_type": "stream",
          "name": "stdout",
          "text": [
            "[[ 0  1  2  3  4  5]\n",
            " [ 6  7  8  9 10 11]]\n"
          ]
        }
      ]
    },
    {
      "cell_type": "code",
      "source": [
        "# How to find common values between two arrays?\n",
        "\n",
        "# Z1 = np.random.randint(0,10,10)\n",
        "# Z2 = np.random.randint(0,10,10)\n",
        "pass\n",
        "Z1 = np.random.randint(0,10,10)\n",
        "Z2 = np.random.randint(0,10,10)\n",
        "valoresComunes = np.intersect1d(Z1, Z2)\n",
        "print(Z1)\n",
        "print(\"-------------\")\n",
        "print(Z2)\n",
        "print(\"-------------\")\n",
        "print(valoresComunes)"
      ],
      "metadata": {
        "id": "VbzMDKQvv0DX",
        "outputId": "a201de99-e7a7-43b3-f2e1-cf606cfb782f",
        "colab": {
          "base_uri": "https://localhost:8080/"
        }
      },
      "execution_count": 20,
      "outputs": [
        {
          "output_type": "stream",
          "name": "stdout",
          "text": [
            "[9 6 3 2 3 0 8 4 8 1]\n",
            "-------------\n",
            "[3 2 0 1 5 8 3 7 7 1]\n",
            "-------------\n",
            "[0 1 2 3 8]\n"
          ]
        }
      ]
    },
    {
      "cell_type": "code",
      "source": [
        "#  Consider two random array A and B, check if they are equal\n",
        "\n",
        "\n",
        "# A = np.random.randint(0,2,5)\n",
        "# B = np.random.randint(0,2,5)\n",
        "\n",
        "pass\n",
        "A = np.random.randint(0,2,5)\n",
        "B = np.random.randint(0,2,5)\n",
        "\n",
        "print('Array A')\n",
        "print(A)\n",
        "print('Array B')\n",
        "print(B)\n",
        "\n",
        "if np.array_equal(A,B):\n",
        "  print('Son iguales')\n",
        "else:\n",
        "  print('Son diferentes')"
      ],
      "metadata": {
        "id": "RWWspnDAwWGV",
        "outputId": "aed8543f-d78a-4526-a7f2-a3e0e4e7ace2",
        "colab": {
          "base_uri": "https://localhost:8080/"
        }
      },
      "execution_count": 21,
      "outputs": [
        {
          "output_type": "stream",
          "name": "stdout",
          "text": [
            "Array A\n",
            "[0 0 1 1 1]\n",
            "Array B\n",
            "[0 1 0 0 1]\n",
            "Son diferentes\n"
          ]
        }
      ]
    },
    {
      "cell_type": "code",
      "source": [
        "# Stack arrays a and b vertically\n",
        "# your code here\n",
        "pass\n",
        "print('Array A')\n",
        "print(A)\n",
        "print('Array B')\n",
        "print(B)\n",
        "matrizApiladaVertical = np.vstack((A, B))\n",
        "print(\"Stacked Array:\")\n",
        "print(matrizApiladaVertical)"
      ],
      "metadata": {
        "id": "SW3KvPXhoeie",
        "outputId": "2de5dafc-b976-4d29-ab5c-831370bd495b",
        "colab": {
          "base_uri": "https://localhost:8080/"
        }
      },
      "execution_count": 22,
      "outputs": [
        {
          "output_type": "stream",
          "name": "stdout",
          "text": [
            "Array A\n",
            "[0 0 1 1 1]\n",
            "Array B\n",
            "[0 1 0 0 1]\n",
            "Stacked Array:\n",
            "[[0 0 1 1 1]\n",
            " [0 1 0 0 1]]\n"
          ]
        }
      ]
    },
    {
      "cell_type": "code",
      "source": [
        "# Stack the arrays a and b horizontally.\n",
        "# your code here\n",
        "pass\n",
        "print('Array A')\n",
        "print(A)\n",
        "print('Array B')\n",
        "print(B)\n",
        "matrizApiladaHorizontal = np.hstack((A, B))\n",
        "print(\"Stacked Array:\")\n",
        "print(matrizApiladaHorizontal)"
      ],
      "metadata": {
        "id": "6wVOpIT9omwe",
        "outputId": "b69ea414-f802-4372-a30f-74872eec8c8e",
        "colab": {
          "base_uri": "https://localhost:8080/"
        }
      },
      "execution_count": 23,
      "outputs": [
        {
          "output_type": "stream",
          "name": "stdout",
          "text": [
            "Array A\n",
            "[0 0 1 1 1]\n",
            "Array B\n",
            "[0 1 0 0 1]\n",
            "Stacked Array:\n",
            "[0 0 1 1 1 0 1 0 0 1]\n"
          ]
        }
      ]
    },
    {
      "cell_type": "code",
      "source": [
        "# Get all items between 5 and 10 from array tmp.\n",
        "# your code here\n",
        "# pass\n",
        "import numpy as np\n",
        "tmp = np.arange(15)\n",
        "print(tmp)\n",
        "print('-------------')\n",
        "valores = tmp[(tmp>=5)&(tmp<=10)]\n",
        "print(valores)"
      ],
      "metadata": {
        "id": "L_7vMkGOo0gX",
        "outputId": "2f10f0b8-c5fc-4f7a-8112-87d5c1c220bb",
        "colab": {
          "base_uri": "https://localhost:8080/"
        }
      },
      "execution_count": 24,
      "outputs": [
        {
          "output_type": "stream",
          "name": "stdout",
          "text": [
            "[ 0  1  2  3  4  5  6  7  8  9 10 11 12 13 14]\n",
            "-------------\n",
            "[ 5  6  7  8  9 10]\n"
          ]
        }
      ]
    },
    {
      "cell_type": "code",
      "source": [
        "# How to make a python function that handles scalars to work on numpy arrays?\n",
        "# Hint\n",
        "# Desired Output:\n",
        "# a = np.array([5, 7, 9, 8, 6, 4, 5])\n",
        "# b = np.array([6, 3, 4, 8, 9, 7, 1])\n",
        "# pair_max(a, b)\n",
        "# #> array([ 6.,  7.,  9.,  8.,  9.,  7.,  5.])\n",
        "\n",
        "\n",
        "# your code here\n",
        "\"\"\"Arrays\"\"\"\n",
        "# a = np.array([5, 7, 9, 8, 6, 4, 5])\n",
        "a = np.random.randint(1,10,7)\n",
        "print(\"Array A\")\n",
        "print(a)\n",
        "# b = np.array([6, 3, 4, 8, 9, 7, 1])\n",
        "b = np.random.randint(1,10,7)\n",
        "print(\"Array B\")\n",
        "print(b)\n",
        "\n",
        "print(\"----------------------------\")\n",
        "\n",
        "\"\"\"Method 1\"\"\"\n",
        "print(\"Method 1\")\n",
        "def parMax(a, b):\n",
        "    \"\"\"Get the element-wise maximum of two arrays\"\"\"\n",
        "    return np.maximum(a, b)\n",
        "\n",
        "c = parMax(a, b)\n",
        "print(c)\n",
        "\n",
        "print(\"----------------------------\")\n",
        "\n",
        "print(\"Method 2\")\n",
        "\"\"\"Method 2\"\"\"\n",
        "def maxx(x, y):\n",
        "    \"\"\"Get the maximum of two items\"\"\"\n",
        "    if x >= y:\n",
        "        return x\n",
        "    else:\n",
        "        return y\n",
        "\n",
        "c = np.array([maxx(x, y) for x, y in zip(a, b)])\n",
        "print(c)"
      ],
      "metadata": {
        "colab": {
          "base_uri": "https://localhost:8080/"
        },
        "id": "FVZz6ZY0p9ya",
        "outputId": "c32265ff-c46d-4676-a329-99416d4537bc"
      },
      "execution_count": 25,
      "outputs": [
        {
          "output_type": "stream",
          "name": "stdout",
          "text": [
            "Array A\n",
            "[8 9 4 4 4 8 1]\n",
            "Array B\n",
            "[8 4 7 8 8 3 1]\n",
            "----------------------------\n",
            "Method 1\n",
            "[8 9 7 8 8 8 1]\n",
            "----------------------------\n",
            "Method 2\n",
            "[8 9 7 8 8 8 1]\n"
          ]
        }
      ]
    },
    {
      "cell_type": "code",
      "source": [
        "# Swap columns 1 and 2 in the array arr.\n",
        "# Hint\n",
        "# Desired Output:\n",
        "# [[0 2 1]\n",
        "#  [3 5 4]\n",
        "#  [6 8 7]]\n",
        "\n",
        "# your code here\n",
        "pass\n",
        "arr = np.arange(9).reshape(3,3)\n",
        "print(arr)\n",
        "\n",
        "# Swap columns 1 and 2\n",
        "arr[:, [0, 1]] = arr[:, [1, 0]]\n",
        "\n",
        "print(\"------------------------\")\n",
        "print(\"Cambio de columnas 1 y 2\")\n",
        "print(arr)\n"
      ],
      "metadata": {
        "colab": {
          "base_uri": "https://localhost:8080/"
        },
        "outputId": "0b4e116b-6c1c-486c-e139-64bff8d65032",
        "id": "8vIzM5e8ql6i"
      },
      "execution_count": 26,
      "outputs": [
        {
          "output_type": "stream",
          "name": "stdout",
          "text": [
            "[[0 1 2]\n",
            " [3 4 5]\n",
            " [6 7 8]]\n",
            "------------------------\n",
            "Cambio de columnas 1 y 2\n",
            "[[1 0 2]\n",
            " [4 3 5]\n",
            " [7 6 8]]\n"
          ]
        }
      ]
    },
    {
      "cell_type": "code",
      "source": [
        "# Create a 2D array of shape 5x3 to contain random decimal numbers between 5 and 10.\n",
        "# Hint\n",
        "# The desired Output should be like the following one:\n",
        "#  [[ 8.50061025  9.10531502  6.85867783]\n",
        "#   [ 9.76262069  9.87717411  7.13466701]\n",
        "#   [ 7.48966403  8.33409158  6.16808631]\n",
        "#   [ 7.75010551  9.94535696  5.27373226]\n",
        "#   [ 8.0850361   5.56165518  7.31244004]]\n",
        "random_array = np.random.uniform(5, 10, size=(5, 3))\n",
        "print(random_array)"
      ],
      "metadata": {
        "id": "FOXX5b17rY7E",
        "outputId": "609932a5-f067-49cb-d2e3-7ae91aed3565",
        "colab": {
          "base_uri": "https://localhost:8080/"
        }
      },
      "execution_count": 27,
      "outputs": [
        {
          "output_type": "stream",
          "name": "stdout",
          "text": [
            "[[8.50922046 8.79577921 5.3288033 ]\n",
            " [6.52293392 7.15307978 6.35627293]\n",
            " [8.78947482 6.38432061 5.51223247]\n",
            " [9.38080824 9.26178082 5.40734425]\n",
            " [9.78691853 9.11328526 6.79739328]]\n"
          ]
        }
      ]
    }
  ]
}