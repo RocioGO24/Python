{
  "nbformat": 4,
  "nbformat_minor": 0,
  "metadata": {
    "colab": {
      "provenance": [],
      "include_colab_link": true
    },
    "kernelspec": {
      "name": "python3",
      "display_name": "Python 3"
    },
    "language_info": {
      "name": "python"
    }
  },
  "cells": [
    {
      "cell_type": "markdown",
      "metadata": {
        "id": "view-in-github",
        "colab_type": "text"
      },
      "source": [
        "<a href=\"https://colab.research.google.com/github/RocioGO24/Python/blob/main/Python_rocio.ipynb\" target=\"_parent\"><img src=\"https://colab.research.google.com/assets/colab-badge.svg\" alt=\"Open In Colab\"/></a>"
      ]
    },
    {
      "cell_type": "code",
      "execution_count": null,
      "metadata": {
        "colab": {
          "base_uri": "https://localhost:8080/"
        },
        "id": "8vCzCW0NRzJ4",
        "outputId": "866bfac3-711a-4d1d-c9de-b980dade15a7"
      },
      "outputs": [
        {
          "output_type": "stream",
          "name": "stdout",
          "text": [
            "Python 3.10.12\n"
          ]
        }
      ],
      "source": [
        "!python --version"
      ]
    },
    {
      "cell_type": "code",
      "source": [
        "myVariable_1=4\n",
        "myVariable_2=6\n",
        "\n",
        "print(myVariable_1+myVariable_2)\n",
        "print(myVariable_1-myVariable_2)\n",
        "print(myVariable_1*myVariable_2)\n",
        "print(myVariable_1**myVariable_2)\n",
        "print(myVariable_1/myVariable_2)"
      ],
      "metadata": {
        "colab": {
          "base_uri": "https://localhost:8080/"
        },
        "id": "0pgpocJ3R8cP",
        "outputId": "3728af47-7bdd-4ac5-b9df-387724071a53"
      },
      "execution_count": null,
      "outputs": [
        {
          "output_type": "stream",
          "name": "stdout",
          "text": [
            "10\n",
            "-2\n",
            "24\n",
            "4096\n",
            "0.6666666666666666\n"
          ]
        }
      ]
    },
    {
      "cell_type": "code",
      "source": [
        "aux1=True\n",
        "aux2=False\n",
        "\n",
        "print(aux1 and aux2)\n",
        "print(aux1 or aux2)\n",
        "print(not aux1)"
      ],
      "metadata": {
        "colab": {
          "base_uri": "https://localhost:8080/"
        },
        "id": "AJja-5OSSxjA",
        "outputId": "0103ee03-9a35-4b74-c87b-373b0be48bee"
      },
      "execution_count": null,
      "outputs": [
        {
          "output_type": "stream",
          "name": "stdout",
          "text": [
            "False\n",
            "True\n",
            "False\n"
          ]
        }
      ]
    },
    {
      "cell_type": "code",
      "source": [
        "myNameIS='ROCIO GARCIA'\n",
        "print(myNameIS)\n",
        "\n",
        "print(myNameIS.upper())\n",
        "print(myNameIS.lower())\n",
        "print(myNameIS.upper())"
      ],
      "metadata": {
        "colab": {
          "base_uri": "https://localhost:8080/"
        },
        "id": "elPAQUFdTYJY",
        "outputId": "031453e6-c330-4e18-8512-414e4a8347fa"
      },
      "execution_count": null,
      "outputs": [
        {
          "output_type": "stream",
          "name": "stdout",
          "text": [
            "ROCIO GARCIA\n",
            "ROCIO GARCIA\n",
            "rocio garcia\n",
            "ROCIO GARCIA\n"
          ]
        }
      ]
    },
    {
      "cell_type": "code",
      "source": [
        "tmp='LUCAS, PEDRO,  JUAN'\n",
        "print(tmp)\n",
        "print(tmp.split(','))"
      ],
      "metadata": {
        "colab": {
          "base_uri": "https://localhost:8080/"
        },
        "id": "vW8tuPp6UqgP",
        "outputId": "5006f686-0158-428a-ef71-332a214a7cb6"
      },
      "execution_count": null,
      "outputs": [
        {
          "output_type": "stream",
          "name": "stdout",
          "text": [
            "LUCAS, PEDRO,  JUAN\n",
            "['LUCAS', ' PEDRO', '  JUAN']\n"
          ]
        }
      ]
    },
    {
      "cell_type": "code",
      "source": [
        "scholaList=['notebook', 'pen', 'ruler', 'eraser', 'pencil']\n",
        "print(scholaList)\n",
        "scholaList.append('computer')\n",
        "print(scholaList)\n",
        "#print(scholaList[3])\n",
        "#scholaList.pop(3)\n",
        "del scholaList[3]\n",
        "print(scholaList)\n"
      ],
      "metadata": {
        "colab": {
          "base_uri": "https://localhost:8080/"
        },
        "id": "4Qd053kHVpxg",
        "outputId": "9e708389-26f1-4c77-f28b-9b2fe4f736aa"
      },
      "execution_count": null,
      "outputs": [
        {
          "output_type": "stream",
          "name": "stdout",
          "text": [
            "['notebook', 'pen', 'ruler', 'eraser', 'pencil']\n",
            "['notebook', 'pen', 'ruler', 'eraser', 'pencil', 'computer']\n",
            "['notebook', 'pen', 'ruler', 'pencil', 'computer']\n"
          ]
        }
      ]
    },
    {
      "cell_type": "code",
      "source": [
        "myList=list(range(15))\n",
        "print(myList)\n",
        "print(myList[4:11])\n",
        "print(myList[-5])"
      ],
      "metadata": {
        "colab": {
          "base_uri": "https://localhost:8080/"
        },
        "id": "5Hogy7AaYzzW",
        "outputId": "22ccb6bf-f70a-4f62-d5d6-2e931cee0b4f"
      },
      "execution_count": null,
      "outputs": [
        {
          "output_type": "stream",
          "name": "stdout",
          "text": [
            "[0, 1, 2, 3, 4, 5, 6, 7, 8, 9, 10, 11, 12, 13, 14]\n",
            "[4, 5, 6, 7, 8, 9, 10]\n",
            "10\n"
          ]
        }
      ]
    },
    {
      "cell_type": "code",
      "source": [
        "myDiccionario={'cat': 'cute', 'dog': 'fat' , 'lion': 'strong'}\n",
        "\n",
        "print(type(myDiccionario))\n",
        "\n",
        "\n",
        "for key, value in myDiccionario.items():\n",
        "  print(key,value)\n",
        "  print(f' key {key}, value {value}')\n",
        "  print('key %s, value %s'%(key,value))\n",
        "  #print('the key is: {} and the value: {}'.format(key, value))\n",
        "  #myDiccionario['monkey']='so cute'\n",
        "  print('----------------')\n",
        "  print(myDiccionario)"
      ],
      "metadata": {
        "colab": {
          "base_uri": "https://localhost:8080/"
        },
        "id": "YLn8NoQYT2Zy",
        "outputId": "fa1b1927-5c31-496a-bd4a-eefe4dc41ab0"
      },
      "execution_count": null,
      "outputs": [
        {
          "output_type": "stream",
          "name": "stdout",
          "text": [
            "<class 'dict'>\n",
            "cat cute\n",
            " key cat, value cute\n",
            "key cat, value cute\n",
            "----------------\n",
            "{'cat': 'cute', 'dog': 'fat', 'lion': 'strong'}\n",
            "dog fat\n",
            " key dog, value fat\n",
            "key dog, value fat\n",
            "----------------\n",
            "{'cat': 'cute', 'dog': 'fat', 'lion': 'strong'}\n",
            "lion strong\n",
            " key lion, value strong\n",
            "key lion, value strong\n",
            "----------------\n",
            "{'cat': 'cute', 'dog': 'fat', 'lion': 'strong'}\n"
          ]
        }
      ]
    },
    {
      "cell_type": "code",
      "source": [
        "tmp=list()\n",
        "for i in range(1, 101, 1):\n",
        "  if i%2==0:\n",
        "    tmp.append(i)\n",
        "print(tmp)\n",
        "print('----------------')\n",
        "aux=[i for i in range (1, 101) if i%2==0]\n",
        "print(aux)"
      ],
      "metadata": {
        "colab": {
          "base_uri": "https://localhost:8080/"
        },
        "id": "xOOqoV-uT38D",
        "outputId": "6a76ee5f-c9db-4420-c04b-8a993325c783"
      },
      "execution_count": null,
      "outputs": [
        {
          "output_type": "stream",
          "name": "stdout",
          "text": [
            "[2, 4, 6, 8, 10, 12, 14, 16, 18, 20, 22, 24, 26, 28, 30, 32, 34, 36, 38, 40, 42, 44, 46, 48, 50, 52, 54, 56, 58, 60, 62, 64, 66, 68, 70, 72, 74, 76, 78, 80, 82, 84, 86, 88, 90, 92, 94, 96, 98, 100]\n",
            "----------------\n",
            "[2, 4, 6, 8, 10, 12, 14, 16, 18, 20, 22, 24, 26, 28, 30, 32, 34, 36, 38, 40, 42, 44, 46, 48, 50, 52, 54, 56, 58, 60, 62, 64, 66, 68, 70, 72, 74, 76, 78, 80, 82, 84, 86, 88, 90, 92, 94, 96, 98, 100]\n"
          ]
        }
      ]
    },
    {
      "cell_type": "code",
      "source": [
        "tmpList=[i**2 for i in range(1, 101 ) if i%2==0]\n",
        "print(tmpList)"
      ],
      "metadata": {
        "colab": {
          "base_uri": "https://localhost:8080/"
        },
        "id": "FO4h2PGxT7Mc",
        "outputId": "28f6cf85-7995-4a79-9714-627bc67cba47"
      },
      "execution_count": null,
      "outputs": [
        {
          "output_type": "stream",
          "name": "stdout",
          "text": [
            "[4, 16, 36, 64, 100, 144, 196, 256, 324, 400, 484, 576, 676, 784, 900, 1024, 1156, 1296, 1444, 1600, 1764, 1936, 2116, 2304, 2500, 2704, 2916, 3136, 3364, 3600, 3844, 4096, 4356, 4624, 4900, 5184, 5476, 5776, 6084, 6400, 6724, 7056, 7396, 7744, 8100, 8464, 8836, 9216, 9604, 10000]\n"
          ]
        }
      ]
    }
  ]
}